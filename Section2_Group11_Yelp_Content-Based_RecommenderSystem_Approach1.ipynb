{
 "cells": [
  {
   "cell_type": "code",
   "execution_count": 1,
   "metadata": {},
   "outputs": [],
   "source": [
    "import pandas as pd\n",
    "from sklearn.metrics.pairwise import cosine_similarity\n",
    "from sklearn.feature_extraction.text import CountVectorizer\n",
    "import nltk \n",
    "from nltk.corpus import stopwords"
   ]
  },
  {
   "cell_type": "code",
   "execution_count": 2,
   "metadata": {},
   "outputs": [],
   "source": [
    "df = pd.read_csv(r'E:\\MSBA\\Courses\\Spring\\Text Analytics\\Project\\Dataset\\Final\\br_model_phx_2014-2018.csv')"
   ]
  },
  {
   "cell_type": "code",
   "execution_count": 3,
   "metadata": {},
   "outputs": [],
   "source": [
    "review =df['text_review']\n",
    "name = df['name']"
   ]
  },
  {
   "cell_type": "code",
   "execution_count": 4,
   "metadata": {},
   "outputs": [],
   "source": [
    "df_2 = pd.DataFrame(data={'title':name,'review':review})"
   ]
  },
  {
   "cell_type": "code",
   "execution_count": 5,
   "metadata": {},
   "outputs": [],
   "source": [
    "df_2.drop_duplicates(keep='first',inplace = True)"
   ]
  },
  {
   "cell_type": "code",
   "execution_count": 6,
   "metadata": {},
   "outputs": [],
   "source": [
    "df_2['index']=range(df_2.shape[0])\n",
    "df_2.set_index('index',inplace=True)"
   ]
  },
  {
   "cell_type": "code",
   "execution_count": 7,
   "metadata": {},
   "outputs": [
    {
     "data": {
      "text/plain": [
       "5929"
      ]
     },
     "execution_count": 7,
     "metadata": {},
     "output_type": "execute_result"
    }
   ],
   "source": [
    "review=df_2['review'].tolist()\n",
    "len(review)"
   ]
  },
  {
   "cell_type": "code",
   "execution_count": 8,
   "metadata": {},
   "outputs": [],
   "source": [
    "tokens=[]\n",
    "for i in range(len(review)):\n",
    "    token = nltk.word_tokenize(review[i])\n",
    "    token = [w.lower() for w in token]\n",
    "    token = [w for w in token if w.isalpha()]\n",
    "    tokens.append(token)\n"
   ]
  },
  {
   "cell_type": "code",
   "execution_count": 9,
   "metadata": {},
   "outputs": [
    {
     "data": {
      "text/plain": [
       "5929"
      ]
     },
     "execution_count": 9,
     "metadata": {},
     "output_type": "execute_result"
    }
   ],
   "source": [
    "len(tokens)"
   ]
  },
  {
   "cell_type": "code",
   "execution_count": 10,
   "metadata": {},
   "outputs": [],
   "source": [
    "stopwords = stopwords.words('english')"
   ]
  },
  {
   "cell_type": "code",
   "execution_count": 11,
   "metadata": {},
   "outputs": [],
   "source": [
    "nostopwords=[]\n",
    "for i in range(len(tokens)):\n",
    "    words = tokens[i]\n",
    "    words_nostopwords = [w for w in words if w not in stopwords]\n",
    "    nostopwords.append(words_nostopwords)"
   ]
  },
  {
   "cell_type": "code",
   "execution_count": 12,
   "metadata": {},
   "outputs": [
    {
     "data": {
      "text/plain": [
       "5929"
      ]
     },
     "execution_count": 12,
     "metadata": {},
     "output_type": "execute_result"
    }
   ],
   "source": [
    "len(nostopwords)"
   ]
  },
  {
   "cell_type": "code",
   "execution_count": 13,
   "metadata": {},
   "outputs": [],
   "source": [
    "stem = []\n",
    "porter = nltk.PorterStemmer()\n",
    "for i in range(len(nostopwords)):\n",
    "    words = nostopwords[i]\n",
    "    stem1 = [porter.stem(w) for w in words]\n",
    "    stem.append(stem1)\n"
   ]
  },
  {
   "cell_type": "code",
   "execution_count": 14,
   "metadata": {},
   "outputs": [
    {
     "data": {
      "text/plain": [
       "5929"
      ]
     },
     "execution_count": 14,
     "metadata": {},
     "output_type": "execute_result"
    }
   ],
   "source": [
    "len(stem)"
   ]
  },
  {
   "cell_type": "code",
   "execution_count": 15,
   "metadata": {},
   "outputs": [],
   "source": [
    "stem = pd.Series(stem)"
   ]
  },
  {
   "cell_type": "code",
   "execution_count": 16,
   "metadata": {},
   "outputs": [],
   "source": [
    "df_2['review_words']=stem\n"
   ]
  },
  {
   "cell_type": "code",
   "execution_count": 17,
   "metadata": {},
   "outputs": [
    {
     "data": {
      "text/html": [
       "<div>\n",
       "<style scoped>\n",
       "    .dataframe tbody tr th:only-of-type {\n",
       "        vertical-align: middle;\n",
       "    }\n",
       "\n",
       "    .dataframe tbody tr th {\n",
       "        vertical-align: top;\n",
       "    }\n",
       "\n",
       "    .dataframe thead th {\n",
       "        text-align: right;\n",
       "    }\n",
       "</style>\n",
       "<table border=\"1\" class=\"dataframe\">\n",
       "  <thead>\n",
       "    <tr style=\"text-align: right;\">\n",
       "      <th></th>\n",
       "      <th>title</th>\n",
       "      <th>review</th>\n",
       "      <th>review_words</th>\n",
       "    </tr>\n",
       "    <tr>\n",
       "      <th>index</th>\n",
       "      <th></th>\n",
       "      <th></th>\n",
       "      <th></th>\n",
       "    </tr>\n",
       "  </thead>\n",
       "  <tbody>\n",
       "    <tr>\n",
       "      <td>0</td>\n",
       "      <td>Chino Bandido</td>\n",
       "      <td>A must go destination in Phoenix.\\nChinese - M...</td>\n",
       "      <td>[must, go, destin, phoenix, chines, mexican, j...</td>\n",
       "    </tr>\n",
       "    <tr>\n",
       "      <td>1</td>\n",
       "      <td>Joe's Midnight Run</td>\n",
       "      <td>THE late night spot in Phx for high quality Am...</td>\n",
       "      <td>[late, night, spot, phx, high, qualiti, americ...</td>\n",
       "    </tr>\n",
       "    <tr>\n",
       "      <td>2</td>\n",
       "      <td>32 Shea</td>\n",
       "      <td>The restaurant has been sold, so I will reserv...</td>\n",
       "      <td>[restaur, sold, reserv, judgement, month, see,...</td>\n",
       "    </tr>\n",
       "    <tr>\n",
       "      <td>3</td>\n",
       "      <td>Pita Bistro</td>\n",
       "      <td>I think I'm addicted to their homemade pita ch...</td>\n",
       "      <td>[think, addict, homemad, pita, chip, hummu, de...</td>\n",
       "    </tr>\n",
       "    <tr>\n",
       "      <td>4</td>\n",
       "      <td>Harumi Sushi</td>\n",
       "      <td>This is just your average sushi place The Purp...</td>\n",
       "      <td>[averag, sushi, place, purpl, rice, pretti, co...</td>\n",
       "    </tr>\n",
       "    <tr>\n",
       "      <td>...</td>\n",
       "      <td>...</td>\n",
       "      <td>...</td>\n",
       "      <td>...</td>\n",
       "    </tr>\n",
       "    <tr>\n",
       "      <td>5924</td>\n",
       "      <td>Arroy Thai</td>\n",
       "      <td>Smaller Servings, OK Food, Higher Prices \\n\\nA...</td>\n",
       "      <td>[smaller, serv, ok, food, higher, price, tri, ...</td>\n",
       "    </tr>\n",
       "    <tr>\n",
       "      <td>5925</td>\n",
       "      <td>Fired Pie</td>\n",
       "      <td>Went there because the TV advertised National ...</td>\n",
       "      <td>[went, tv, advertis, nation, pizza, day, natio...</td>\n",
       "    </tr>\n",
       "    <tr>\n",
       "      <td>5926</td>\n",
       "      <td>Church's Chicken</td>\n",
       "      <td>I haven't ordered chicken from this location i...</td>\n",
       "      <td>[order, chicken, locat, rememb, first, ask, sp...</td>\n",
       "    </tr>\n",
       "    <tr>\n",
       "      <td>5927</td>\n",
       "      <td>OHSO Brewery- Arcadia</td>\n",
       "      <td>Brunch on steroids. Best chicken and waffles. ...</td>\n",
       "      <td>[brunch, steroid, best, chicken, waffl, chicke...</td>\n",
       "    </tr>\n",
       "    <tr>\n",
       "      <td>5928</td>\n",
       "      <td>Sushi-to</td>\n",
       "      <td>I was a little skeptical about ordering sushi ...</td>\n",
       "      <td>[littl, skeptic, order, sushi, random, hous, t...</td>\n",
       "    </tr>\n",
       "  </tbody>\n",
       "</table>\n",
       "<p>5929 rows × 3 columns</p>\n",
       "</div>"
      ],
      "text/plain": [
       "                       title  \\\n",
       "index                          \n",
       "0              Chino Bandido   \n",
       "1         Joe's Midnight Run   \n",
       "2                    32 Shea   \n",
       "3                Pita Bistro   \n",
       "4               Harumi Sushi   \n",
       "...                      ...   \n",
       "5924              Arroy Thai   \n",
       "5925               Fired Pie   \n",
       "5926        Church's Chicken   \n",
       "5927   OHSO Brewery- Arcadia   \n",
       "5928                Sushi-to   \n",
       "\n",
       "                                                  review  \\\n",
       "index                                                      \n",
       "0      A must go destination in Phoenix.\\nChinese - M...   \n",
       "1      THE late night spot in Phx for high quality Am...   \n",
       "2      The restaurant has been sold, so I will reserv...   \n",
       "3      I think I'm addicted to their homemade pita ch...   \n",
       "4      This is just your average sushi place The Purp...   \n",
       "...                                                  ...   \n",
       "5924   Smaller Servings, OK Food, Higher Prices \\n\\nA...   \n",
       "5925   Went there because the TV advertised National ...   \n",
       "5926   I haven't ordered chicken from this location i...   \n",
       "5927   Brunch on steroids. Best chicken and waffles. ...   \n",
       "5928   I was a little skeptical about ordering sushi ...   \n",
       "\n",
       "                                            review_words  \n",
       "index                                                     \n",
       "0      [must, go, destin, phoenix, chines, mexican, j...  \n",
       "1      [late, night, spot, phx, high, qualiti, americ...  \n",
       "2      [restaur, sold, reserv, judgement, month, see,...  \n",
       "3      [think, addict, homemad, pita, chip, hummu, de...  \n",
       "4      [averag, sushi, place, purpl, rice, pretti, co...  \n",
       "...                                                  ...  \n",
       "5924   [smaller, serv, ok, food, higher, price, tri, ...  \n",
       "5925   [went, tv, advertis, nation, pizza, day, natio...  \n",
       "5926   [order, chicken, locat, rememb, first, ask, sp...  \n",
       "5927   [brunch, steroid, best, chicken, waffl, chicke...  \n",
       "5928   [littl, skeptic, order, sushi, random, hous, t...  \n",
       "\n",
       "[5929 rows x 3 columns]"
      ]
     },
     "execution_count": 17,
     "metadata": {},
     "output_type": "execute_result"
    }
   ],
   "source": [
    "df_2"
   ]
  },
  {
   "cell_type": "code",
   "execution_count": 18,
   "metadata": {},
   "outputs": [],
   "source": [
    "df_3 =df_2.groupby(by='title')['review_words'].sum()"
   ]
  },
  {
   "cell_type": "code",
   "execution_count": 19,
   "metadata": {
    "scrolled": true
   },
   "outputs": [],
   "source": [
    "df_3=pd.DataFrame(df_3)"
   ]
  },
  {
   "cell_type": "code",
   "execution_count": 20,
   "metadata": {},
   "outputs": [],
   "source": [
    "for i in range(len(df_3['review_words'])):\n",
    "    df_3['review_words'][i]=','.join(df_3['review_words'][i])"
   ]
  },
  {
   "cell_type": "code",
   "execution_count": 21,
   "metadata": {},
   "outputs": [],
   "source": [
    "count = CountVectorizer()\n",
    "count_matrix = count.fit_transform(df_3['review_words'])"
   ]
  },
  {
   "cell_type": "code",
   "execution_count": 22,
   "metadata": {},
   "outputs": [
    {
     "data": {
      "text/plain": [
       "array([[1.        , 0.08746385, 0.07888007, ..., 0.10516693, 0.52821066,\n",
       "        0.12681706],\n",
       "       [0.08746385, 1.        , 0.19087136, ..., 0.03331894, 0.27904066,\n",
       "        0.2236817 ],\n",
       "       [0.07888007, 0.19087136, 1.        , ..., 0.09929231, 0.21925814,\n",
       "        0.22616243],\n",
       "       ...,\n",
       "       [0.10516693, 0.03331894, 0.09929231, ..., 1.        , 0.12304447,\n",
       "        0.11809198],\n",
       "       [0.52821066, 0.27904066, 0.21925814, ..., 0.12304447, 1.        ,\n",
       "        0.29922899],\n",
       "       [0.12681706, 0.2236817 , 0.22616243, ..., 0.11809198, 0.29922899,\n",
       "        1.        ]])"
      ]
     },
     "execution_count": 22,
     "metadata": {},
     "output_type": "execute_result"
    }
   ],
   "source": [
    "cosine_sim = cosine_similarity(count_matrix, count_matrix)\n",
    "cosine_sim"
   ]
  },
  {
   "cell_type": "code",
   "execution_count": 31,
   "metadata": {},
   "outputs": [],
   "source": [
    "indices = pd.Series(df_3.index)\n",
    "recommended=[]\n",
    "\n",
    "def recommendations(title, cosine_sim = cosine_sim):\n",
    "    \n",
    "    \n",
    "    idx = indices[indices == title].index[0]\n",
    "\n",
    "    score_series = pd.Series(cosine_sim[idx]).sort_values(ascending = False)\n",
    "    \n",
    "    top_5_indexes = list(score_series.iloc[1:6].index)\n",
    "          \n",
    "    for i in top_5_indexes:\n",
    "        recommended.append(list(df_3.index)[i])\n",
    "        \n",
    "    return recommended"
   ]
  },
  {
   "cell_type": "code",
   "execution_count": 32,
   "metadata": {},
   "outputs": [
    {
     "data": {
      "text/plain": [
       "Index(['Buffalo Wild Wings', 'Gallagher's', 'Native Grill & Wings',\n",
       "       'The Attic Ale House', 'Red Robin Gourmet Burgers'],\n",
       "      dtype='object', name='title')"
      ]
     },
     "execution_count": 32,
     "metadata": {},
     "output_type": "execute_result"
    }
   ],
   "source": [
    "recommendations('Hooters')"
   ]
  },
  {
   "cell_type": "code",
   "execution_count": 60,
   "metadata": {},
   "outputs": [],
   "source": [
    "from sklearn.feature_extraction.text import TfidfVectorizer"
   ]
  },
  {
   "cell_type": "code",
   "execution_count": 61,
   "metadata": {},
   "outputs": [],
   "source": [
    "tf = TfidfVectorizer(analyzer='word', ngram_range=(1, 3), min_df=0, stop_words='english')\n",
    "tfidf_matrix = tf.fit_transform(df_3['review_words'])"
   ]
  },
  {
   "cell_type": "code",
   "execution_count": 62,
   "metadata": {},
   "outputs": [
    {
     "data": {
      "text/plain": [
       "array([[1.00000000e+00, 6.68958537e-03, 7.95858422e-03, ...,\n",
       "        4.87682191e-03, 9.87394260e-02, 7.74785548e-03],\n",
       "       [6.68958537e-03, 1.00000000e+00, 6.04931783e-03, ...,\n",
       "        2.34651942e-04, 1.58669419e-02, 1.16642533e-02],\n",
       "       [7.95858422e-03, 6.04931783e-03, 1.00000000e+00, ...,\n",
       "        3.21114785e-03, 1.14934271e-02, 1.13050933e-02],\n",
       "       ...,\n",
       "       [4.87682191e-03, 2.34651942e-04, 3.21114785e-03, ...,\n",
       "        1.00000000e+00, 6.10845412e-03, 3.26356079e-03],\n",
       "       [9.87394260e-02, 1.58669419e-02, 1.14934271e-02, ...,\n",
       "        6.10845412e-03, 1.00000000e+00, 1.97290330e-02],\n",
       "       [7.74785548e-03, 1.16642533e-02, 1.13050933e-02, ...,\n",
       "        3.26356079e-03, 1.97290330e-02, 1.00000000e+00]])"
      ]
     },
     "execution_count": 62,
     "metadata": {},
     "output_type": "execute_result"
    }
   ],
   "source": [
    "cosine_sim = cosine_similarity(tfidf_matrix, tfidf_matrix)\n",
    "cosine_sim"
   ]
  },
  {
   "cell_type": "code",
   "execution_count": 63,
   "metadata": {},
   "outputs": [],
   "source": [
    "indices = pd.Series(df_3.index)\n",
    "recommended=[]\n",
    "\n",
    "def recommendations(title, cosine_sim = cosine_sim):\n",
    "    \n",
    "    \n",
    "    idx = indices[indices == title].index[0]\n",
    "\n",
    "    score_series = pd.Series(cosine_sim[idx]).sort_values(ascending = False)\n",
    "    \n",
    "    top_5_indexes = list(score_series.iloc[1:6].index)\n",
    "    for i in top_5_indexes:\n",
    "        recommended.append(list(df_3.index)[i])\n",
    "        \n",
    "    return recommended"
   ]
  },
  {
   "cell_type": "code",
   "execution_count": 64,
   "metadata": {},
   "outputs": [
    {
     "data": {
      "text/plain": [
       "['The Attic Ale House',\n",
       " 'Mellow Mushroom',\n",
       " 'Buffalo Wild Wings',\n",
       " 'Red Robin Gourmet Burgers',\n",
       " 'Wingstop']"
      ]
     },
     "execution_count": 64,
     "metadata": {},
     "output_type": "execute_result"
    }
   ],
   "source": [
    "recommendations('Hooters')"
   ]
  },
  {
   "cell_type": "code",
   "execution_count": null,
   "metadata": {},
   "outputs": [],
   "source": []
  }
 ],
 "metadata": {
  "kernelspec": {
   "display_name": "Python 3",
   "language": "python",
   "name": "python3"
  },
  "language_info": {
   "codemirror_mode": {
    "name": "ipython",
    "version": 3
   },
   "file_extension": ".py",
   "mimetype": "text/x-python",
   "name": "python",
   "nbconvert_exporter": "python",
   "pygments_lexer": "ipython3",
   "version": "3.7.4"
  }
 },
 "nbformat": 4,
 "nbformat_minor": 2
}
